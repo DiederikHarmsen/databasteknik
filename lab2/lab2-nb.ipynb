{
 "cells": [
  {
   "cell_type": "markdown",
   "metadata": {},
   "source": [
    "<!-- -*- mode: markdown; coding: utf-8; fill-column: 60; ispell-dictionary: \"english\" -*- -->\n",
    "\n",
    "<meta charset=\"utf-8\"/>\n",
    "<meta name=\"viewport\" content=\"width=device-width,initial-scale=1\"/>\n",
    "<link rel=\"stylesheet\" href=\"style.css\">\n",
    "\n",
    "\n",
    "# EDAF75 - lab 2: Testing the database\n",
    "\n",
    "As usual we have to tell Jupyter to allow SQL:"
   ]
  },
  {
   "cell_type": "code",
   "execution_count": 1,
   "metadata": {},
   "outputs": [],
   "source": [
    "%load_ext sql"
   ]
  },
  {
   "cell_type": "markdown",
   "metadata": {},
   "source": [
    "And then we import our movie database"
   ]
  },
  {
   "cell_type": "code",
   "execution_count": 2,
   "metadata": {},
   "outputs": [
    {
     "data": {
      "text/plain": [
       "'Connected: @movies.sqlite'"
      ]
     },
     "execution_count": 2,
     "metadata": {},
     "output_type": "execute_result"
    }
   ],
   "source": [
    "%sql sqlite:///movies.sqlite"
   ]
  },
  {
   "cell_type": "markdown",
   "metadata": {},
   "source": [
    "We want to make sure that SQLite3 really checks our foreign\n",
    "key constraints -- to do that, we run:"
   ]
  },
  {
   "cell_type": "code",
   "execution_count": 3,
   "metadata": {},
   "outputs": [
    {
     "name": "stdout",
     "output_type": "stream",
     "text": [
      " * sqlite:///movies.sqlite\n",
      "Done.\n"
     ]
    },
    {
     "data": {
      "text/plain": [
       "[]"
      ]
     },
     "execution_count": 3,
     "metadata": {},
     "output_type": "execute_result"
    }
   ],
   "source": [
    "%%sql\n",
    "\n",
    "PRAGMA foreign_keys=ON;"
   ]
  },
  {
   "cell_type": "markdown",
   "metadata": {},
   "source": [
    "Now write SQL code for the following tasks:\n",
    "\n",
    "\n",
    "+ Show the names of all movies."
   ]
  },
  {
   "cell_type": "code",
   "execution_count": 5,
   "metadata": {},
   "outputs": [
    {
     "name": "stdout",
     "output_type": "stream",
     "text": [
      " * sqlite:///movies.sqlite\n",
      "Done.\n"
     ]
    },
    {
     "data": {
      "text/html": [
       "<table>\n",
       "    <tr>\n",
       "        <th>title</th>\n",
       "    </tr>\n",
       "    <tr>\n",
       "        <td>12 Angry Men</td>\n",
       "    </tr>\n",
       "    <tr>\n",
       "        <td>The Lighthouse</td>\n",
       "    </tr>\n",
       "    <tr>\n",
       "        <td>Free Solo</td>\n",
       "    </tr>\n",
       "    <tr>\n",
       "        <td>What We Do In The Shadows</td>\n",
       "    </tr>\n",
       "    <tr>\n",
       "        <td>The Lord of the Rings: The Return of the King</td>\n",
       "    </tr>\n",
       "</table>"
      ],
      "text/plain": [
       "[('12 Angry Men',),\n",
       " ('The Lighthouse',),\n",
       " ('Free Solo',),\n",
       " ('What We Do In The Shadows',),\n",
       " ('The Lord of the Rings: The Return of the King',)]"
      ]
     },
     "execution_count": 5,
     "metadata": {},
     "output_type": "execute_result"
    }
   ],
   "source": [
    "%%sql\n",
    "SELECT title\n",
    "FROM movie\n"
   ]
  },
  {
   "cell_type": "markdown",
   "metadata": {},
   "source": [
    "+ Show the performance dates for one of the movies."
   ]
  },
  {
   "cell_type": "code",
   "execution_count": 7,
   "metadata": {},
   "outputs": [
    {
     "name": "stdout",
     "output_type": "stream",
     "text": [
      " * sqlite:///movies.sqlite\n",
      "Done.\n"
     ]
    },
    {
     "data": {
      "text/html": [
       "<table>\n",
       "    <tr>\n",
       "        <th>Date</th>\n",
       "        <th>Start Time</th>\n",
       "        <th>Title of Movie</th>\n",
       "    </tr>\n",
       "    <tr>\n",
       "        <td>2020-02-15</td>\n",
       "        <td>19:00</td>\n",
       "        <td>12 Angry Men</td>\n",
       "    </tr>\n",
       "    <tr>\n",
       "        <td>2020-02-20</td>\n",
       "        <td>14:14</td>\n",
       "        <td>Free Solo</td>\n",
       "    </tr>\n",
       "    <tr>\n",
       "        <td>2020-02-15</td>\n",
       "        <td>14:00</td>\n",
       "        <td>What We Do In The Shadows</td>\n",
       "    </tr>\n",
       "    <tr>\n",
       "        <td>2020-02-23</td>\n",
       "        <td>10:00</td>\n",
       "        <td>What We Do In The Shadows</td>\n",
       "    </tr>\n",
       "</table>"
      ],
      "text/plain": [
       "[('2020-02-15', '19:00', '12 Angry Men'),\n",
       " ('2020-02-20', '14:14', 'Free Solo'),\n",
       " ('2020-02-15', '14:00', 'What We Do In The Shadows'),\n",
       " ('2020-02-23', '10:00', 'What We Do In The Shadows')]"
      ]
     },
     "execution_count": 7,
     "metadata": {},
     "output_type": "execute_result"
    }
   ],
   "source": [
    "%%sql\n",
    "SELECT date as \"Date\", start_time as \"Start Time\", title as \"Title of Movie\"\n",
    "FROM screening\n",
    "INNER JOIN(movie)\n",
    "USING(imdb)\n",
    "WHERE title = '12 Angry Men'"
   ]
  },
  {
   "cell_type": "markdown",
   "metadata": {},
   "source": [
    "+ Show all data concerning performances at a given theatere\n",
    "  on a given date."
   ]
  },
  {
   "cell_type": "code",
   "execution_count": 8,
   "metadata": {},
   "outputs": [
    {
     "name": "stdout",
     "output_type": "stream",
     "text": [
      " * sqlite:///movies.sqlite\n",
      "Done.\n"
     ]
    },
    {
     "data": {
      "text/html": [
       "<table>\n",
       "    <tr>\n",
       "        <th>theater_name</th>\n",
       "        <th>title</th>\n",
       "        <th>start_time</th>\n",
       "        <th>date</th>\n",
       "        <th>screening_id</th>\n",
       "    </tr>\n",
       "    <tr>\n",
       "        <td>Bergakungen</td>\n",
       "        <td>12 Angry Men</td>\n",
       "        <td>19:00</td>\n",
       "        <td>2020-02-15</td>\n",
       "        <td>27b6e80fce18c21b458099d127939526</td>\n",
       "    </tr>\n",
       "    <tr>\n",
       "        <td>Bergakungen</td>\n",
       "        <td>What We Do In The Shadows</td>\n",
       "        <td>14:00</td>\n",
       "        <td>2020-02-15</td>\n",
       "        <td>93d4aa874f6623cb34c19bb7991d9fb0</td>\n",
       "    </tr>\n",
       "</table>"
      ],
      "text/plain": [
       "[('Bergakungen', '12 Angry Men', '19:00', '2020-02-15', '27b6e80fce18c21b458099d127939526'),\n",
       " ('Bergakungen', 'What We Do In The Shadows', '14:00', '2020-02-15', '93d4aa874f6623cb34c19bb7991d9fb0')]"
      ]
     },
     "execution_count": 8,
     "metadata": {},
     "output_type": "execute_result"
    }
   ],
   "source": [
    "%%sql\n",
    "SELECT theater_name, title, start_time, date, screening_id\n",
    "FROM screening\n",
    "\n",
    "INNER JOIN(movie)\n",
    "USING(imdb)\n",
    "INNER JOIN(theater)\n",
    "USING(theater_name) \n",
    "WHERE theater_name = \"Bergakungen\" AND date = '2020-02-15'\n"
   ]
  },
  {
   "cell_type": "markdown",
   "metadata": {},
   "source": [
    "+ List all customers"
   ]
  },
  {
   "cell_type": "code",
   "execution_count": 9,
   "metadata": {},
   "outputs": [
    {
     "name": "stdout",
     "output_type": "stream",
     "text": [
      " * sqlite:///movies.sqlite\n",
      "Done.\n"
     ]
    },
    {
     "data": {
      "text/html": [
       "<table>\n",
       "    <tr>\n",
       "        <th>full_name</th>\n",
       "        <th>username</th>\n",
       "    </tr>\n",
       "    <tr>\n",
       "        <td>Diederik Harmsen</td>\n",
       "        <td>coolkille1996</td>\n",
       "    </tr>\n",
       "    <tr>\n",
       "        <td>Mats Hallström</td>\n",
       "        <td>matsa</td>\n",
       "    </tr>\n",
       "</table>"
      ],
      "text/plain": [
       "[('Diederik Harmsen', 'coolkille1996'), ('Mats Hallström', 'matsa')]"
      ]
     },
     "execution_count": 9,
     "metadata": {},
     "output_type": "execute_result"
    }
   ],
   "source": [
    "%%sql\n",
    "SELECT full_name, username\n",
    "FROM customer"
   ]
  },
  {
   "cell_type": "markdown",
   "metadata": {},
   "source": [
    "+ List all tickets"
   ]
  },
  {
   "cell_type": "code",
   "execution_count": 17,
   "metadata": {},
   "outputs": [
    {
     "name": "stdout",
     "output_type": "stream",
     "text": [
      " * sqlite:///movies.sqlite\n",
      "1 rows affected.\n",
      "Done.\n"
     ]
    },
    {
     "data": {
      "text/html": [
       "<table>\n",
       "    <tr>\n",
       "        <th>ticket_id</th>\n",
       "        <th>screening_id</th>\n",
       "        <th>title</th>\n",
       "    </tr>\n",
       "    <tr>\n",
       "        <td>af6e1331b8c1468a4b58d799480014df</td>\n",
       "        <td>27b6e80fce18c21b458099d127939526</td>\n",
       "        <td>12 Angry Men</td>\n",
       "    </tr>\n",
       "    <tr>\n",
       "        <td>e22d053396219db152f53883129ed1d5</td>\n",
       "        <td>27b6e80fce18c21b458099d127939526</td>\n",
       "        <td>12 Angry Men</td>\n",
       "    </tr>\n",
       "    <tr>\n",
       "        <td>e2987d9f4a898e0030ed69a3f2a42738</td>\n",
       "        <td>27b6e80fce18c21b458099d127939526</td>\n",
       "        <td>12 Angry Men</td>\n",
       "    </tr>\n",
       "    <tr>\n",
       "        <td>2ddcb1202d3a1b78d2051e7a53cd1e69</td>\n",
       "        <td>27b6e80fce18c21b458099d127939526</td>\n",
       "        <td>12 Angry Men</td>\n",
       "    </tr>\n",
       "    <tr>\n",
       "        <td>ffce9fea7fd96d68d6f09763eba0a3b1</td>\n",
       "        <td>27b6e80fce18c21b458099d127939526</td>\n",
       "        <td>12 Angry Men</td>\n",
       "    </tr>\n",
       "</table>"
      ],
      "text/plain": [
       "[('af6e1331b8c1468a4b58d799480014df', '27b6e80fce18c21b458099d127939526', '12 Angry Men'),\n",
       " ('e22d053396219db152f53883129ed1d5', '27b6e80fce18c21b458099d127939526', '12 Angry Men'),\n",
       " ('e2987d9f4a898e0030ed69a3f2a42738', '27b6e80fce18c21b458099d127939526', '12 Angry Men'),\n",
       " ('2ddcb1202d3a1b78d2051e7a53cd1e69', '27b6e80fce18c21b458099d127939526', '12 Angry Men'),\n",
       " ('ffce9fea7fd96d68d6f09763eba0a3b1', '27b6e80fce18c21b458099d127939526', '12 Angry Men')]"
      ]
     },
     "execution_count": 17,
     "metadata": {},
     "output_type": "execute_result"
    }
   ],
   "source": [
    "%%sql\n",
    "INSERT \n",
    "INTO    ticket(ticket_id, username, screening_id)\n",
    "VALUES  ((lower(hex(randomblob(16)))), 'matsa', '27b6e80fce18c21b458099d127939526');\n",
    "\n",
    "SELECT ticket_id, screening_id, title\n",
    "FROM ticket\n",
    "INNER JOIN(screening)\n",
    "USING(screening_id)\n",
    "INNER JOIN(movie)\n",
    "USING(imdb)"
   ]
  },
  {
   "cell_type": "markdown",
   "metadata": {},
   "source": [
    "+ Create a new ticket to some performance (i.e., insert a\n",
    "  new row in your table of tickets)."
   ]
  },
  {
   "cell_type": "code",
   "execution_count": 21,
   "metadata": {},
   "outputs": [
    {
     "name": "stdout",
     "output_type": "stream",
     "text": [
      " * sqlite:///movies.sqlite\n",
      "1 rows affected.\n",
      "Done.\n"
     ]
    },
    {
     "data": {
      "text/plain": [
       "[]"
      ]
     },
     "execution_count": 21,
     "metadata": {},
     "output_type": "execute_result"
    }
   ],
   "source": [
    "%%sql\n",
    "INSERT \n",
    "INTO ticket(ticket_id, username, screening_id)\n",
    "VALUES (lower(hex(randomblob(16))), 'matsa', '27b6e80fce18c21b458099d127939526');\n",
    "PRAGMA foreign_keys = ON;"
   ]
  },
  {
   "cell_type": "markdown",
   "metadata": {},
   "source": [
    "In\n",
    "  [PostgreSQL](https://www.postgresql.org/docs/current/sql-insert.html)\n",
    "  we can get any value generated during an insert using the\n",
    "  `INSERT...-RETURNING` statement:"
   ]
  },
  {
   "cell_type": "markdown",
   "metadata": {},
   "source": [
    "~~~{.sql}\n",
    "INSERT\n",
    "INTO       students\n",
    "VALUES     ('Amy', 3.9, 1200)\n",
    "RETURNING  s_id\n",
    "~~~\n"
   ]
  },
  {
   "cell_type": "markdown",
   "metadata": {},
   "source": [
    "In SQLite3 (as of January 2020), we can't do that, instead\n",
    "  we can use the following idea: each row in a SQLite3 table\n",
    "  has a `rowid` attribute, it is a unique integer which\n",
    "  essentially tells in which order the rows were inserted,\n",
    "  and it's not displayed in queries unless we ask for it.\n",
    "  SQLite3 also have a function, `last_insert_rowid()`, which\n",
    "  returns the `rowid` of the last inserted row of a table,\n",
    "  so we can see the `s_id` of the most recently inserted\n",
    "  student with the following query:"
   ]
  },
  {
   "cell_type": "markdown",
   "metadata": {},
   "source": [
    "~~~{.sql}\n",
    "SELECT s_id\n",
    "FROM   students\n",
    "WHERE  rowid = last_insert_rowid();\n",
    "~~~\n"
   ]
  },
  {
   "cell_type": "markdown",
   "metadata": {},
   "source": [
    "Now, check what ticket number we got for the ticket we\n",
    "  created above (it should be the same as the ticket id,\n",
    "  which should be a `randomblob`):"
   ]
  },
  {
   "cell_type": "code",
   "execution_count": null,
   "metadata": {},
   "outputs": [],
   "source": [
    "%%sql\n",
    "SELECT ticket_id\n",
    "FROM ticket\n",
    "WHERE rowid = last_insert_rowid();"
   ]
  },
  {
   "cell_type": "markdown",
   "metadata": {},
   "source": [
    "+ Try to insert two movie theaters with the same name (this\n",
    "  should fail)."
   ]
  },
  {
   "cell_type": "code",
   "execution_count": null,
   "metadata": {},
   "outputs": [],
   "source": [
    "%%sql\n",
    "INSERT\n",
    "INTO         theater(theater_name, capacity)\n",
    "VALUES       ('Bergakungen', 23)\n"
   ]
  },
  {
   "cell_type": "markdown",
   "metadata": {},
   "source": [
    "+ Try to insert a performance where the theater doesn’t\n",
    "  exist in the database (this should fail)."
   ]
  },
  {
   "cell_type": "code",
   "execution_count": null,
   "metadata": {},
   "outputs": [],
   "source": [
    "%%sql\n",
    "INSERT \n",
    "INTO     screening(theater_name, imdb, start_time, date, screening_id)\n",
    "VALUES   ('Begakungen', 'tt0050083', '12:00', '2020-02-16', '7b013fd5fb13748f125868639078d109');"
   ]
  },
  {
   "cell_type": "markdown",
   "metadata": {},
   "source": [
    "+ Create a ticket where either the user or the performance\n",
    "  doesn’t exist."
   ]
  },
  {
   "cell_type": "code",
   "execution_count": null,
   "metadata": {},
   "outputs": [],
   "source": [
    "%%sql\n",
    "PRAGMA foreign_keys = OFF;\n",
    "INSERT \n",
    "INTO ticket(ticket_id, username, screening_id)\n",
    "VALUES (lower(hex(randomblob(16))), 'mats', '7b013fd5fb13748f125868639078d108' IS IN screening.screening_id);\n",
    "PRAGMA foreign_keys = ON;"
   ]
  },
  {
   "cell_type": "code",
   "execution_count": null,
   "metadata": {},
   "outputs": [],
   "source": []
  }
 ],
 "metadata": {
  "kernelspec": {
   "display_name": "Python 3",
   "language": "python",
   "name": "python3"
  },
  "language_info": {
   "codemirror_mode": {
    "name": "ipython",
    "version": 3
   },
   "file_extension": ".py",
   "mimetype": "text/x-python",
   "name": "python",
   "nbconvert_exporter": "python",
   "pygments_lexer": "ipython3",
   "version": "3.7.3"
  }
 },
 "nbformat": 4,
 "nbformat_minor": 2
}
