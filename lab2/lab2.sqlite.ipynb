{
 "cells": [
  {
   "cell_type": "code",
   "execution_count": 30,
   "metadata": {},
   "outputs": [
    {
     "name": "stdout",
     "output_type": "stream",
     "text": [
      "The sql extension is already loaded. To reload it, use:\n",
      "  %reload_ext sql\n"
     ]
    }
   ],
   "source": [
    "%load_ext sql"
   ]
  },
  {
   "cell_type": "code",
   "execution_count": 31,
   "metadata": {},
   "outputs": [
    {
     "data": {
      "text/plain": [
       "'Connected: @movies.sqlite'"
      ]
     },
     "execution_count": 31,
     "metadata": {},
     "output_type": "execute_result"
    }
   ],
   "source": [
    "%sql sqlite:///movies.sqlite"
   ]
  },
  {
   "cell_type": "code",
   "execution_count": 32,
   "metadata": {},
   "outputs": [
    {
     "name": "stdout",
     "output_type": "stream",
     "text": [
      " * sqlite:///movies.sqlite\n",
      "Done.\n"
     ]
    },
    {
     "data": {
      "text/html": [
       "<table>\n",
       "    <tr>\n",
       "        <th>username</th>\n",
       "        <th>full_name</th>\n",
       "        <th>password</th>\n",
       "    </tr>\n",
       "    <tr>\n",
       "        <td>coolkille1996</td>\n",
       "        <td>Diederik Harmsen</td>\n",
       "        <td>svårknäcktlösenord123</td>\n",
       "    </tr>\n",
       "</table>"
      ],
      "text/plain": [
       "[('coolkille1996', 'Diederik Harmsen', 'svårknäcktlösenord123')]"
      ]
     },
     "execution_count": 32,
     "metadata": {},
     "output_type": "execute_result"
    }
   ],
   "source": [
    "%%sql\n",
    "SELECT username, full_name, password\n",
    "FROM customer\n"
   ]
  },
  {
   "cell_type": "code",
   "execution_count": 34,
   "metadata": {},
   "outputs": [
    {
     "name": "stdout",
     "output_type": "stream",
     "text": [
      " * sqlite:///movies.sqlite\n",
      "Done.\n"
     ]
    },
    {
     "data": {
      "text/html": [
       "<table>\n",
       "    <tr>\n",
       "        <th>theater_name</th>\n",
       "        <th>start_time</th>\n",
       "        <th>date</th>\n",
       "        <th>title</th>\n",
       "    </tr>\n",
       "    <tr>\n",
       "        <td>Bergakungen</td>\n",
       "        <td>19:00</td>\n",
       "        <td>2020-02-15</td>\n",
       "        <td>12 Angry Men</td>\n",
       "    </tr>\n",
       "    <tr>\n",
       "        <td>Hagabion</td>\n",
       "        <td>14:14</td>\n",
       "        <td>2020-02-20</td>\n",
       "        <td>Free Solo</td>\n",
       "    </tr>\n",
       "</table>"
      ],
      "text/plain": [
       "[('Bergakungen', '19:00', '2020-02-15', '12 Angry Men'),\n",
       " ('Hagabion', '14:14', '2020-02-20', 'Free Solo')]"
      ]
     },
     "execution_count": 34,
     "metadata": {},
     "output_type": "execute_result"
    }
   ],
   "source": [
    "%%sql\n",
    "SELECT theater_name, start_time, date, title\n",
    "FROM screening\n",
    "INNER JOIN(movie)\n",
    "USING(imdb)"
   ]
  },
  {
   "cell_type": "code",
   "execution_count": null,
   "metadata": {},
   "outputs": [],
   "source": []
  }
 ],
 "metadata": {
  "kernelspec": {
   "display_name": "Python 3",
   "language": "python",
   "name": "python3"
  },
  "language_info": {
   "codemirror_mode": {
    "name": "ipython",
    "version": 3
   },
   "file_extension": ".py",
   "mimetype": "text/x-python",
   "name": "python",
   "nbconvert_exporter": "python",
   "pygments_lexer": "ipython3",
   "version": "3.7.3"
  }
 },
 "nbformat": 4,
 "nbformat_minor": 2
}
